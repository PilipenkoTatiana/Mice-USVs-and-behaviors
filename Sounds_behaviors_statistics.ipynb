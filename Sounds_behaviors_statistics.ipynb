{
  "nbformat": 4,
  "nbformat_minor": 0,
  "metadata": {
    "colab": {
      "provenance": [],
      "authorship_tag": "ABX9TyNQ3ygUzjkn+92Eidmvg6ro",
      "include_colab_link": true
    },
    "kernelspec": {
      "name": "python3",
      "display_name": "Python 3"
    },
    "language_info": {
      "name": "python"
    }
  },
  "cells": [
    {
      "cell_type": "markdown",
      "metadata": {
        "id": "view-in-github",
        "colab_type": "text"
      },
      "source": [
        "<a href=\"https://colab.research.google.com/github/PilipenkoTatiana/Mice-USVs-and-behaviors/blob/main/Sounds_behaviors_statistics.ipynb\" target=\"_parent\"><img src=\"https://colab.research.google.com/assets/colab-badge.svg\" alt=\"Open In Colab\"/></a>"
      ]
    },
    {
      "cell_type": "code",
      "execution_count": null,
      "metadata": {
        "id": "MhudqhfxOB2N"
      },
      "outputs": [],
      "source": [
        "#%% import packages\n",
        "import pandas as pd\n",
        "import os\n",
        "import glob\n",
        "import nltk\n",
        "import matplotlib.pyplot as plt"
      ]
    },
    {
      "cell_type": "code",
      "source": [
        "#%% select study group and sequence\n",
        "study_group = 'VH'  #CBD - drugs, VH - no drugs\n",
        "sequence_length = 3 #1 #2 #3 #4"
      ],
      "metadata": {
        "id": "w3yvZ9zYOJhs"
      },
      "execution_count": null,
      "outputs": []
    },
    {
      "cell_type": "code",
      "source": [
        "#%% read excel with behavior-sound\n",
        "\n",
        "\n",
        "os.chdir('...\\\\adults_excel_sound_behavior_merged')\n",
        "excel_file_list = glob.glob('*.xlsx')\n",
        "selected_sheet_names = [ x for x in excel_file_list if \"$\" not in x ]\n",
        "selected_sheet_names = [ x for x in excel_file_list if study_group in x ]\n",
        "selected_sheet_names = [k for k in selected_sheet_names if 'topo' in k]\n",
        "\n",
        "\n",
        "# define the behavior list\n",
        "behavior_list = [\"anogenital sniffing\", \"contact\", \"exploring\", \"immobile\", \"nose-nose sniffing\", \"self grooming\", \"sniffing body\", \"following\"]\n",
        "\n"
      ],
      "metadata": {
        "id": "PIVuyatwOLWs"
      },
      "execution_count": null,
      "outputs": []
    },
    {
      "cell_type": "code",
      "source": [
        "counter = 1\n",
        "#counter_all_mice = pd.DataFrame()\n",
        "for mouse in selected_sheet_names:\n",
        "\n",
        "    os.chdir('...\\\\adults_excel_sound_behavior_merged')\n",
        "\n",
        "    #df = pd.read_excel(excel_file_name, sheet_name= mouse)\n",
        "    df = pd.read_excel(mouse)\n",
        "\n",
        "    # drop rows with nan in behavior-sound (sometimes we have behaviors without sounds)\n",
        "    df = df.dropna()\n",
        "    # reset index\n",
        "    df = df.reset_index(drop=True)\n",
        "\n",
        "    df['end time'] = df['start time'] + df['Duration_Sound']\n",
        "\n",
        "    # divide in sentences\n",
        "    df_time = df[['TIPOLOGIA', 'start time', 'end time', 'Behavior']]\n",
        "    df_time = df_time[df_time['TIPOLOGIA'].notna()]\n",
        "\n",
        "    if len(df_time) > 1:\n",
        "        sentence = 0\n",
        "        seconds = 0.55\n",
        "        sentence_label = []\n",
        "        sentence_label.append(0)\n",
        "        for m in range(0,len(df_time)-1):\n",
        "            if df['start time'][m+1] - df['end time'][m] < seconds:\n",
        "                sentence_label.append(sentence)\n",
        "            else:\n",
        "                sentence += 1\n",
        "                sentence_label.append(sentence)\n",
        "\n",
        "        df_time['Sentence_Label'] = sentence_label\n",
        "\n",
        "        #data cleaning\n",
        "        try:\n",
        "            df_time = df_time[~df_time['TIPOLOGIA'].str.startswith('?')]\n",
        "            df_time = df_time[~df_time['TIPOLOGIA'].str.endswith('*')]\n",
        "            df_time = df_time.reset_index()\n",
        "            for i in range(0,len(df_time)):\n",
        "                df_time['TIPOLOGIA'][i] = df_time['TIPOLOGIA'][i].rstrip()\n",
        "        except:\n",
        "            df_time = df_time[~df_time['TIPOLOGIE'].str.startswith('?')]\n",
        "            df_time = df_time[~df_time['TIPOLOGIE'].str.endswith('*')]\n",
        "            df_time = df_time.reset_index()\n",
        "            for i in range(0,len(df_time)):\n",
        "                df_time['TIPOLOGIE'][i] = df_time['TIPOLOGIE'][i].rstrip()\n",
        "\n",
        "\n",
        "        sentences = {}\n",
        "        for l in range(0,sentence+1):\n",
        "            sentences[l] = df_time.loc[df_time['Sentence_Label'] == l]\n",
        "\n",
        "\n",
        "        # drop sentences smaller than the sequence length\n",
        "        for u in range(0,len(sentences)):\n",
        "            if len(sentences[u]) < sequence_length:\n",
        "                del sentences[u]\n",
        "\n",
        "        #execute the following code only if there are sentences with at least two sounds\n",
        "        if len(sentences) > 0:\n",
        "            # reset keys of the sentences dictionary (deleting sentences can create gaps in keys)\n",
        "            sentences = {p: sentences[b] for p, b in enumerate(sorted(sentences.keys()))}\n",
        "\n",
        "            for snt in range(0, len(sentences)):\n",
        "                for behavior in behavior_list:\n",
        "                    temporary_df = sentences[snt].loc[sentences[snt]['Behavior'] == behavior]\n",
        "                    output = nltk.FreqDist(nltk.ngrams(list(temporary_df['TIPOLOGIA']), sequence_length))\n",
        "                    pattern_sequence = pd.DataFrame(output.items(), columns=['pattern', 'frequency'])\n",
        "\n",
        "\n",
        "                    try:\n",
        "                        globals()['behavior_%s'%behavior] = pd.merge(globals()['behavior_%s'%behavior], pattern_sequence, on=['pattern'],how='outer')\n",
        "                        globals()['behavior_%s' % behavior].rename(columns={'frequency': mouse}, inplace = True)\n",
        "                        # there is a bug putting \"pattern\" in a random position, let's put it as first column:\n",
        "                        first_column =  globals()['behavior_%s' % behavior].pop('pattern')\n",
        "                        globals()['behavior_%s' % behavior].insert(0, 'pattern', first_column)\n",
        "                    except:\n",
        "                        globals()['behavior_%s' % behavior] = pattern_sequence\n",
        "                        globals()['behavior_%s' % behavior].rename(columns={'frequency': mouse}, inplace = True)\n",
        "                        # there is a bug putting \"pattern\" in a random position, let's put it as first column:\n",
        "                        first_column =  globals()['behavior_%s' % behavior].pop('pattern')\n",
        "                        globals()['behavior_%s' % behavior].insert(0, 'pattern', first_column)\n",
        "\n",
        "    counter += 1\n"
      ],
      "metadata": {
        "id": "TDpRyTXnOPFD"
      },
      "execution_count": null,
      "outputs": []
    },
    {
      "cell_type": "code",
      "source": [
        "for behavior in behavior_list:\n",
        "    globals()['behavior_%s' % behavior]['count'] = globals()['behavior_%s' % behavior].sum(axis = 1)\n",
        "    globals()['behavior_%s' % behavior] = globals()['behavior_%s' % behavior][['pattern', 'count']]\n",
        "\n",
        "\n",
        "for behavior in behavior_list:\n",
        "    globals()['behavior_%s' % behavior].to_excel(\"dataframe_\" + behavior + \".xlsx\")\n",
        "\n",
        "\n"
      ],
      "metadata": {
        "id": "WqTs0_HfOT7T"
      },
      "execution_count": null,
      "outputs": []
    },
    {
      "cell_type": "code",
      "source": [
        "# filter the dataframes (they are too large for a decent representation)\n",
        "# from now on, behavior is no longer necessary\n",
        "os.chdir('...\\\\adults_excel_sound_behavior_merged')\n",
        "final_df = pd.read_excel('sounds_merged_pivot.xlsx', sheet_name=str(sequence_length) + ' sounds - ' + study_group)\n",
        "# define percentage rows to display (they are too many)\n",
        "percentage_patterns_total = 0.05\n",
        "number_of_patterns_total = int(percentage_patterns_total*len(final_df))\n",
        "final_df = final_df.head(number_of_patterns_total)\n",
        "final_df = final_df.sort_values('pattern', ascending = True)\n",
        "final_df =  final_df.reset_index(drop=True)\n"
      ],
      "metadata": {
        "id": "Dctq721fOW1D"
      },
      "execution_count": null,
      "outputs": []
    },
    {
      "cell_type": "code",
      "source": [
        "# replace the name of the sounds with their abbreviations (for an easier to read visualization)\n",
        "final_df['pattern'] = final_df['pattern'].str.replace('chevron','CH')\n",
        "final_df['pattern'] = final_df['pattern'].str.replace('complex','CX')\n",
        "final_df['pattern'] = final_df['pattern'].str.replace('composite','CM')\n",
        "final_df['pattern'] = final_df['pattern'].str.replace('downward','D')\n",
        "final_df['pattern'] = final_df['pattern'].str.replace('flat','F')\n",
        "final_df['pattern'] = final_df['pattern'].str.replace('frequency steps','FS')\n",
        "final_df['pattern'] = final_df['pattern'].str.replace('harmonics','H')\n",
        "final_df['pattern'] = final_df['pattern'].str.replace('short','S')\n",
        "final_df['pattern'] = final_df['pattern'].str.replace('two-syllable','TS')\n",
        "final_df['pattern'] = final_df['pattern'].str.replace('upward','U')\n",
        "\n"
      ],
      "metadata": {
        "id": "0B0iIfgbOYZD"
      },
      "execution_count": null,
      "outputs": []
    },
    {
      "cell_type": "code",
      "source": [
        "# final plot\n",
        "fig = plt.figure() # everytime we start a new picture, we define a new fig\n",
        "width = .35\n",
        "final_df['count'].plot(kind='bar', width = width, color = 'green', figsize=(30,25))\n",
        "final_df['count'].plot(kind='line',secondary_y=False, color='red', linewidth=4)\n",
        "ax = plt.gca()\n",
        "ax.set_xticklabels(final_df['pattern'], fontsize=50)\n",
        "ax.tick_params(axis='y', which='major', labelsize=50)  # fix font size y axis\n",
        "plt.xticks(rotation = 90)\n",
        "ax.set_ylabel('Count', fontsize=60)\n",
        "ax.set_xlabel('Sounds',fontsize=60)\n",
        "#ax.set_title('Adult ' + study_group + ' mice sounds total for ' + behavior + ' - sequence length: ' + str(sequence_length), fontsize=20)\n",
        "ax.set_facecolor('xkcd:white')\n"
      ],
      "metadata": {
        "id": "uYu_evgoOaJr"
      },
      "execution_count": null,
      "outputs": []
    },
    {
      "cell_type": "code",
      "source": [
        "\n",
        "#fig.set_size_inches(17.5, 13)\n",
        "fig.tight_layout()\n",
        "# create folder for the selected time frame\n",
        "os.chdir('...\\\\'+study_group)\n",
        "\n",
        "try:\n",
        "    os.mkdir(str(seconds) + ' seconds')\n",
        "except:\n",
        "    pass\n",
        "\n",
        "os.chdir('...\\\\'+study_group+'\\\\' + str(seconds) + ' seconds')\n",
        "'''\n",
        "if behavior in ['sniffing body', 'anogenital sniffing', 'nose-nose sniffing']:\n",
        "    plt.ylim(0,350)\n",
        "elif behavior == 'exploring':\n",
        "    plt.ylim(0,140)\n",
        "elif behavior == 'contact':\n",
        "    plt.ylim(0,50)\n",
        "'''\n",
        "fig.tight_layout()\n",
        "#fig.savefig('adults_total_hist_' + study_group + \" \" + str(sequence_length) + ' - ' + str(seconds) + ' seconds' +'.pdf', bbox_inches='tight')\n",
        "plt.show()\n",
        "plt.clf()\n",
        "\n",
        "#final_df.to_excel('Final_DF ' + study_group + ' - ' + str(sequence_length) + ' sounds.xlsx')\n",
        "\n",
        "# eliminate the variables globals()['behavior_%s' % behavior] (necessary to re-run the code without opening a new console)\n",
        "\n",
        "for behavior in behavior_list:\n",
        "    del globals()['behavior_%s' % behavior]\n"
      ],
      "metadata": {
        "id": "Vfnhr6mkOe-D"
      },
      "execution_count": null,
      "outputs": []
    }
  ]
}